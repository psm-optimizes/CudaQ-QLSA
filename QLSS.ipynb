{
 "cells": [
  {
   "cell_type": "code",
   "execution_count": null,
   "metadata": {},
   "outputs": [],
   "source": [
    "# Install CudaQ package\n",
    "!pip install cudaq\n",
    "\n",
    "from IPython.display import clear_output\n",
    "clear_output()"
   ]
  },
  {
   "cell_type": "code",
   "execution_count": 1,
   "metadata": {},
   "outputs": [],
   "source": [
    "import cudaq"
   ]
  },
  {
   "cell_type": "code",
   "execution_count": 2,
   "metadata": {},
   "outputs": [],
   "source": [
    "import numpy as np\n",
    "import scipy as sp\n",
    "from numpy import linalg as LA\n",
    "from copy import deepcopy\n",
    "from numpy import matmul\n",
    "import math\n",
    "import matplotlib.pyplot as plt"
   ]
  },
  {
   "cell_type": "code",
   "execution_count": 3,
   "metadata": {},
   "outputs": [],
   "source": [
    "# Check the hermitian matrix\n",
    "def check_hermitian(mat):\n",
    "  if np.allclose(mat, mat.T.conjugate(), rtol=1e-05, atol=1e-08):\n",
    "    pass\n",
    "  else:\n",
    "    print(\"Sorry! The input matrix should be Hermitian.\")"
   ]
  },
  {
   "cell_type": "code",
   "execution_count": 4,
   "metadata": {},
   "outputs": [
    {
     "name": "stdout",
     "output_type": "stream",
     "text": [
      "Condition number of A:  2.575130738580152\n",
      "Eigenvalues of A:  [ 2.20147234 -3.74656825 -1.45490409  2.        ]\n"
     ]
    }
   ],
   "source": [
    "# Define linear system\n",
    "# A = 0.25*np.array([[15.,9,5,-3],[9,15,3,-5],[5.,3,15,-9],[-3.,-5,-9,15]])\n",
    "# b = 0.5*np.array([1,1,1,1]).T\n",
    "\n",
    "A = np.array([[0, 1, 1, 0], [1, -1, 0, 0], [1, 0, -.5, 0], [0,0,0,1]])\n",
    "b = np.array([0, 0, -.5, 0])\n",
    "\n",
    "# Normalize vector b\n",
    "norm_b = LA.norm(b)\n",
    "A = A / norm_b\n",
    "b = b / norm_b\n",
    "\n",
    "# Exact solution \n",
    "csol = LA.solve(A,b)\n",
    "check_hermitian(A)\n",
    "print(\"Condition number of A: \", LA.cond(A))\n",
    "print(\"Eigenvalues of A: \", LA.eigvals(A))"
   ]
  },
  {
   "cell_type": "code",
   "execution_count": 5,
   "metadata": {},
   "outputs": [],
   "source": [
    "# Modified version of QFT available on CudaQ documentation: swaps added.\n",
    "@cudaq.kernel\n",
    "def QFT(qubits: cudaq.qview):\n",
    "    '''Args:\n",
    "    qubits (cudaq.qview): specifies the quantum register to which apply the QFT.'''\n",
    "    qubit_count = len(qubits)\n",
    "    # For this specific instance, following swaps should be added\n",
    "    swap(qubits[1], qubits[qubit_count - 2])\n",
    "    swap(qubits[0], qubits[qubit_count - 1])\n",
    "    \n",
    "    # Apply Hadamard gates and controlled rotation gates.\n",
    "    for i in range(qubit_count):\n",
    "        h(qubits[i])\n",
    "        for j in range(i + 1, qubit_count):\n",
    "            angle = -(2 * np.pi) / (2**(j - i + 1))\n",
    "            cr1(angle, [qubits[j]], qubits[i])\n",
    "\n",
    "# Inverse of QFT can be accessed by applying adjoint operator.\n",
    "@cudaq.kernel\n",
    "def invQFT(qubits: cudaq.qview):\n",
    "    '''Args:\n",
    "    qubits (cudaq.qview): specifies the quantum register to which apply the inverse QFT.'''\n",
    "    cudaq.adjoint(QFT, qubits)"
   ]
  },
  {
   "cell_type": "code",
   "execution_count": 6,
   "metadata": {},
   "outputs": [],
   "source": [
    "# Parameters\n",
    "c_num = 4\n",
    "b_num = int(np.log2(len(b)))"
   ]
  },
  {
   "cell_type": "code",
   "execution_count": 7,
   "metadata": {
    "scrolled": true
   },
   "outputs": [],
   "source": [
    "# Calculating the unitary matrices need for Hamiltonian simulation \n",
    "U = {}\n",
    "t = 3*np.pi\n",
    "for i in range(c_num):\n",
    "    time = t/(2**(c_num - i))\n",
    "    U[i] = sp.linalg.expm(-1j * A * time)\n",
    "    cudaq.register_operation(f\"U{i}\", U[i])\n",
    "# print(U)"
   ]
  },
  {
   "cell_type": "code",
   "execution_count": 8,
   "metadata": {},
   "outputs": [],
   "source": [
    "# Calculating the unitary matrices need for inverse Hamiltonian simulation step\n",
    "Uinv = {}\n",
    "for i in range(c_num-1,-1,-1):\n",
    "    time = t/(2**(c_num-i))\n",
    "    Uinv[i] = sp.linalg.expm(-1j * -A * time)\n",
    "    cudaq.register_operation(f\"Uinv{i}\", Uinv[i])\n",
    "# print(Uinv)"
   ]
  },
  {
   "cell_type": "code",
   "execution_count": 9,
   "metadata": {},
   "outputs": [
    {
     "name": "stdout",
     "output_type": "stream",
     "text": [
      "Is U0 unitary?     True\n",
      "Is U1 unitary?     True\n",
      "Is U2 unitary?     True\n",
      "Is U3 unitary?     True\n",
      "Is Uinv0 unitary?  True\n",
      "Is Uinv1 unitary?  True\n",
      "Is Uinv2 unitary?  True\n",
      "Is Uinv3 unitary?  True\n"
     ]
    }
   ],
   "source": [
    "# Checking if U and Uinv matrices are unitary\n",
    "for i in range(len(U.keys())):\n",
    "    print(f\"Is U{i} unitary?    \", np.allclose(U[i] @ U[i].conj().T, np.eye(U[i].shape[0])))\n",
    "    \n",
    "for i in range(len(Uinv.keys())):\n",
    "    print(f\"Is Uinv{i} unitary? \", np.allclose(U[i] @ U[i].conj().T, np.eye(U[i].shape[0])))"
   ]
  },
  {
   "cell_type": "code",
   "execution_count": 10,
   "metadata": {},
   "outputs": [],
   "source": [
    "@cudaq.kernel\n",
    "\n",
    "def QuantumLinearSystemSolver(r: int, t: float):\n",
    "    \"\"\"\n",
    "    A: The matrix representing the linear system.\n",
    "    b: The vector representing the right-hand side of the linear system.\n",
    "    t: A time parameter used in the controlled-Hamiltonian operations.\n",
    "    r: A parameter used to determine the rotation angles for the ancilla qubit.\n",
    "    shots: The number of shots (repetitions) for the quantum circuit execution.\n",
    "    \"\"\"\n",
    "    #==========================================================================\n",
    "    # Preprocessing\n",
    "    #==========================================================================\n",
    "    # check_hermitian(A)\n",
    "\n",
    "    # # Normalize A and b\n",
    "    # norm_b = LA.norm(b)\n",
    "    # A = A / norm_b\n",
    "    # b = b / norm_b\n",
    "\n",
    "    # # Calculate condition number and eigenvalues of A\n",
    "    # kappa = LA.cond(A)\n",
    "    # eigs = LA.eigvals(A)\n",
    "\n",
    "    #==========================================================================\n",
    "    # Quantum Circuit\n",
    "    #==========================================================================\n",
    "\n",
    "    # Qubits\n",
    "    qAnc = cudaq.qubit()\n",
    "    cReg = cudaq.qvector(c_num)\n",
    "    bReg = cudaq.qvector(b)       # Giving vector b to qvector initializes the quantum state.\n",
    "\n",
    "    # Classical bits\n",
    "    cAnc = [0]\n",
    "    bVec = [0 for i in range(b_num)]\n",
    "\n",
    "\n",
    "    # Apply Hadamard on register C\n",
    "    h(cReg)\n",
    "\n",
    "    # Apply Hamiltonian \n",
    "    for i in range(c_num):\n",
    "        if i == 0:\n",
    "            U0.ctrl([cReg[i]], bReg[0], bReg[1])\n",
    "        if i == 1:\n",
    "            U1.ctrl([cReg[i]], bReg[0], bReg[1])\n",
    "        if i == 2:\n",
    "            U2.ctrl([cReg[i]], bReg[0], bReg[1])\n",
    "        if i == 3:\n",
    "            U3.ctrl([cReg[i]], bReg[0], bReg[1])\n",
    "            \n",
    "    # Apply inverse QFT\n",
    "    QFT(cReg)\n",
    "\n",
    "    # Swap the qubit\n",
    "    swap(cReg[1], cReg[c_num - 1])\n",
    "\n",
    "    # Apply y rotations on Ancilla qubit\n",
    "    for i in range(c_num):\n",
    "        exponent = c_num - r - i\n",
    "        theta = np.pi/(2**(-exponent))\n",
    "        ry.ctrl(theta, [cReg[i]], qAnc)  \n",
    "        \n",
    "    # # ================ Uncompute the circuit ================\n",
    "    \n",
    "    # Swap the qubit\n",
    "    swap(cReg[1], cReg[c_num - 1])\n",
    "\n",
    "    # Apply QFT\n",
    "    invQFT(cReg)\n",
    "\n",
    "    # Apply Hamiltonian\n",
    "    for i in range(c_num-1,-1,-1):\n",
    "        if i == 0:\n",
    "            Uinv0.ctrl([cReg[i]], bReg[0], bReg[1])\n",
    "        if i == 1:\n",
    "            Uinv1.ctrl([cReg[i]], bReg[0], bReg[1])\n",
    "        if i == 2:\n",
    "            Uinv2.ctrl([cReg[i]], bReg[0], bReg[1])\n",
    "        if i == 3:\n",
    "            Uinv3.ctrl([cReg[i]], bReg[0], bReg[1])\n",
    "\n",
    "    # Apply Hadamard on register C\n",
    "    h(cReg)\n",
    "\n",
    "    # Measurement\n",
    "    mz(qAnc)\n",
    "    mz(bReg)"
   ]
  },
  {
   "cell_type": "code",
   "execution_count": 11,
   "metadata": {},
   "outputs": [
    {
     "name": "stdout",
     "output_type": "stream",
     "text": [
      "Please run the quantum solver.\n"
     ]
    }
   ],
   "source": [
    "# Extract approximate solution of the quantum linear solver\n",
    "def approximate_quantum_sol(sol,b_num):\n",
    "  num = 0\n",
    "  app_sol = np.zeros(2**(b_num))\n",
    "\n",
    "  for key, value in sol.items(): \n",
    "    if key[0] == '1':\n",
    "      num += value \n",
    "      cord = int(key[-1:0:-1],base=2)\n",
    "      app_sol[cord] = value\n",
    "  \n",
    "  app_sol = 1/num *app_sol\n",
    "  return app_sol\n",
    "\n",
    "print(\"Please run the quantum solver.\")"
   ]
  },
  {
   "cell_type": "code",
   "execution_count": 12,
   "metadata": {},
   "outputs": [
    {
     "name": "stdout",
     "output_type": "stream",
     "text": [
      "Sample Results: \n",
      "\n",
      "{ 000:102 001:27070 010:68 100:551 101:1522 110:687 }\n",
      "\n",
      "Most probable result: 001\n",
      "Measured with probability 0.9023333333333333\n",
      "\n",
      "============================== Final results ==============================\n",
      "\n",
      "Exact solution =  [-0.33333333 -0.33333333  0.33333333  0.        ]\n",
      "Quantum solver solution =  [0.19963768 0.24891304 0.55144928 0.        ]\n",
      "Norm of difference =  0.8189282689997065 \n",
      "\n"
     ]
    }
   ],
   "source": [
    "# Do the experiment\n",
    "shots = 30000             # total number of running the circuit\n",
    "SampleResults = cudaq.sample(QuantumLinearSystemSolver, 6, 3*np.pi, shots_count= shots)\n",
    "\n",
    "MostProbableResult = SampleResults.most_probable()\n",
    "Prob = SampleResults.probability(MostProbableResult)\n",
    "print(\"Sample Results: \\n\")\n",
    "print(SampleResults)\n",
    "print(\"Most probable result: \" + MostProbableResult)\n",
    "print(\"Measured with probability \" + str(Prob), end='\\n\\n')  \n",
    "\n",
    "qsol = approximate_quantum_sol(SampleResults,b_num)\n",
    "\n",
    "print(\"============================== Final results ==============================\\n\")\n",
    "print ('Exact solution = ', csol)\n",
    "print('Quantum solver solution = ', qsol)\n",
    "print('Norm of difference = ', LA.norm(qsol- csol),'\\n')"
   ]
  },
  {
   "cell_type": "code",
   "execution_count": 13,
   "metadata": {},
   "outputs": [
    {
     "data": {
      "image/png": "[encoded data removed]",
      "text/plain": [
       "<Figure size 800x600 with 1 Axes>"
      ]
     },
     "metadata": {},
     "output_type": "display_data"
    },
    {
     "name": "stdout",
     "output_type": "stream",
     "text": [
      "Note: In contrast to Qiskit which uses little-endian, CudaQ uses big-endian!\n"
     ]
    }
   ],
   "source": [
    "# Extract keys and values\n",
    "states = []\n",
    "probabilities = []\n",
    "for key, value in SampleResults.items():\n",
    "    states.append(key)\n",
    "    probabilities.append(value/shots)\n",
    "\n",
    "# Create the bar plot\n",
    "plt.figure(figsize=(8, 6))\n",
    "plt.bar(states, probabilities, color='blue', alpha=0.6)\n",
    "\n",
    "# Add labels and title\n",
    "plt.xlabel('States', fontsize=14)\n",
    "plt.ylabel('Probabilities', fontsize=14)\n",
    "plt.title('Measurement Result Histogram', fontsize=16)\n",
    "\n",
    "# Add bar labels\n",
    "for i, prob in enumerate(probabilities):\n",
    "    plt.text(i, prob, f'{prob:.3f}', ha='center', va='bottom', fontsize=12)\n",
    "\n",
    "# Show the plot\n",
    "plt.grid(axis='y', linestyle='--', alpha=0.7)\n",
    "plt.tight_layout()\n",
    "plt.show()\n",
    "\n",
    "print(\"Note: In contrast to Qiskit which uses little-endian, CudaQ uses big-endian!\")"
   ]
  },
  {
   "cell_type": "code",
   "execution_count": 14,
   "metadata": {},
   "outputs": [
    {
     "name": "stdout",
     "output_type": "stream",
     "text": [
      "============================== Circuit structure ============================== \n",
      "\n",
      "                                                                       »\n",
      "q0 : ──────────────────────────────────────────────────────────────────»\n",
      "     ╭───╮                           ╭───╮╭────────────╮╭─────────────╮»\n",
      "q1 : ┤ h ├──●──────────────────────╳─┤ h ├┤ r1(-1.571) ├┤ r1(-0.7854) ├»\n",
      "     ├───┤  │                      │ ╰───╯╰─────┬──────╯╰──────┬──────╯»\n",
      "q2 : ┤ h ├──┼─────●───────────╳────┼────────────●──────────────┼───────»\n",
      "     ├───┤  │     │           │    │                           │       »\n",
      "q3 : ┤ h ├──┼─────┼─────●─────╳────┼───────────────────────────●───────»\n",
      "     ├───┤  │     │     │          │                                   »\n",
      "q4 : ┤ h ├──┼─────┼─────┼─────●────╳───────────────────────────────────»\n",
      "     ╰───╯╭─┴──╮╭─┴──╮╭─┴──╮╭─┴──╮                                     »\n",
      "q5 : ─────┤>   ├┤>   ├┤>   ├┤>   ├─────────────────────────────────────»\n",
      "          │ U0 ││ U1 ││ U2 ││ U3 │                                     »\n",
      "q6 : ─────┤>   ├┤>   ├┤>   ├┤>   ├─────────────────────────────────────»\n",
      "          ╰────╯╰────╯╰────╯╰────╯                                     »\n",
      "\n",
      "################################################################################\n",
      "\n",
      "               ╭────────────╮                                                »\n",
      "───────────────┤ ry(0.7854) ├────────────────────────────────────────────────»\n",
      "╭─────────────╮╰─────┬──────╯                                                »\n",
      "┤ r1(-0.3927) ├──────●───────────────────────────────────────────────────────»\n",
      "╰──────┬──────╯    ╭───╮     ╭────────────╮╭─────────────╮                   »\n",
      "───────┼───────────┤ h ├─────┤ r1(-1.571) ├┤ r1(-0.7854) ├───────────────────»\n",
      "       │           ╰───╯     ╰─────┬──────╯╰──────┬──────╯╭───╮╭────────────╮»\n",
      "───────┼───────────────────────────●──────────────┼───────┤ h ├┤ r1(-1.571) ├»\n",
      "       │                                          │       ╰───╯╰─────┬──────╯»\n",
      "───────●──────────────────────────────────────────●──────────────────●───────»\n",
      "                                                                             »\n",
      "─────────────────────────────────────────────────────────────────────────────»\n",
      "                                                                             »\n",
      "─────────────────────────────────────────────────────────────────────────────»\n",
      "                                                                             »\n",
      "\n",
      "################################################################################\n",
      "\n",
      "        ╭────────────╮╭────────────╮╭─────────────╮                          »\n",
      "────────┤ ry(0.3927) ├┤ ry(0.1963) ├┤ ry(0.09817) ├──────────────────────────»\n",
      "        ╰─────┬──────╯╰─────┬──────╯╰──────┬──────╯                          »\n",
      "──────────────┼─────────────┼──────────────┼─────────────────────────────────»\n",
      "              │             │              │                                 »\n",
      "──────╳───────●─────────────┼──────────────┼────────╳────────────────────────»\n",
      "      │                     │              │        │      ╭───────────╮╭───╮»\n",
      "──────┼─────────────────────●──────────────┼────────┼──────┤ r1(1.571) ├┤ h ├»\n",
      "╭───╮ │                                    │        │ ╭───╮╰─────┬─────╯╰───╯»\n",
      "┤ h ├─╳────────────────────────────────────●────────╳─┤ h ├──────●───────────»\n",
      "╰───╯                                                 ╰───╯                  »\n",
      "─────────────────────────────────────────────────────────────────────────────»\n",
      "                                                                             »\n",
      "─────────────────────────────────────────────────────────────────────────────»\n",
      "                                                                             »\n",
      "\n",
      "################################################################################\n",
      "\n",
      "                                                                              »\n",
      "──────────────────────────────────────────────────────────────────────────────»\n",
      "                                ╭────────────╮╭────────────╮╭───────────╮╭───╮»\n",
      "────────────────────────────────┤ r1(0.3927) ├┤ r1(0.7854) ├┤ r1(1.571) ├┤ h ├»\n",
      "╭────────────╮╭───────────╮╭───╮╰─────┬──────╯╰─────┬──────╯╰─────┬─────╯╰───╯»\n",
      "┤ r1(0.7854) ├┤ r1(1.571) ├┤ h ├──────┼─────────────┼─────────────●───────────»\n",
      "╰─────┬──────╯╰─────┬─────╯╰───╯      │             │                         »\n",
      "──────┼─────────────●─────────────────┼─────────────●─────────────────────────»\n",
      "      │                               │                                       »\n",
      "──────●───────────────────────────────●───────────────────────────────────────»\n",
      "                                                                              »\n",
      "──────────────────────────────────────────────────────────────────────────────»\n",
      "                                                                              »\n",
      "──────────────────────────────────────────────────────────────────────────────»\n",
      "                                                                              »\n",
      "\n",
      "################################################################################\n",
      "\n",
      "                                            \n",
      "────────────────────────────────────────────\n",
      "                                       ╭───╮\n",
      "─╳────────────────────────────────●────┤ h ├\n",
      " │                                │    ├───┤\n",
      "─┼─────╳─────────────────●────────┼────┤ h ├\n",
      " │     │                 │        │    ├───┤\n",
      "─┼─────╳────────●────────┼────────┼────┤ h ├\n",
      " │              │        │        │    ├───┤\n",
      "─╳─────●────────┼────────┼────────┼────┤ h ├\n",
      "   ╭───┴───╮╭───┴───╮╭───┴───╮╭───┴───╮╰───╯\n",
      "───┤>      ├┤>      ├┤>      ├┤>      ├─────\n",
      "   │ Uinv3 ││ Uinv2 ││ Uinv1 ││ Uinv0 │     \n",
      "───┤>      ├┤>      ├┤>      ├┤>      ├─────\n",
      "   ╰───────╯╰───────╯╰───────╯╰───────╯     \n",
      "\n"
     ]
    }
   ],
   "source": [
    "# Draw the quantum circuit\n",
    "print(\"============================== Circuit structure ============================== \\n\")\n",
    "print(cudaq.draw(QuantumLinearSystemSolver, 6, 3*np.pi))"
   ]
  },
  {
   "cell_type": "code",
   "execution_count": null,
   "metadata": {},
   "outputs": [],
   "source": []
  }
 ],
 "metadata": {
  "kernelspec": {
   "display_name": "Python 3 (ipykernel)",
   "language": "python",
   "name": "python3"
  },
  "language_info": {
   "codemirror_mode": {
    "name": "ipython",
    "version": 3
   },
   "file_extension": ".py",
   "mimetype": "text/x-python",
   "name": "python",
   "nbconvert_exporter": "python",
   "pygments_lexer": "ipython3",
   "version": "3.11.8"
  }
 },
 "nbformat": 4,
 "nbformat_minor": 4
}
