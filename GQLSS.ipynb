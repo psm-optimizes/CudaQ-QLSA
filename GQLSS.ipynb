{
 "cells": [
  {
   "cell_type": "code",
   "execution_count": null,
   "id": "82654f2c-702d-4305-829c-6576f9f193d1",
   "metadata": {},
   "outputs": [],
   "source": [
    "# Install CudaQ package\n",
    "!pip install cudaq\n",
    "\n",
    "from IPython.display import clear_output\n",
    "clear_output()"
   ]
  },
  {
   "cell_type": "code",
   "execution_count": null,
   "id": "72e845c1-d8e8-4306-bf02-3d4603976ba0",
   "metadata": {},
   "outputs": [],
   "source": [
    "!pip install --upgrade cudaq"
   ]
  },
  {
   "cell_type": "code",
   "execution_count": 1,
   "id": "3cfbdeb2-a1d0-494e-89aa-8b4e4791d1d5",
   "metadata": {},
   "outputs": [],
   "source": [
    "import cudaq"
   ]
  },
  {
   "cell_type": "code",
   "execution_count": 2,
   "id": "98c3e858-4e97-4b8b-af50-5ac4cea0ac2b",
   "metadata": {},
   "outputs": [
    {
     "name": "stdout",
     "output_type": "stream",
     "text": [
      "CUDA-Q Version 0.10.0 (https://github.com/NVIDIA/cuda-quantum f24f4f78673e0bc330fec90a88251321432be970)\n"
     ]
    }
   ],
   "source": [
    "print(cudaq.__version__)"
   ]
  },
  {
   "cell_type": "code",
   "execution_count": 3,
   "id": "104d2e86-2492-4239-8f44-b76eefe4feb7",
   "metadata": {},
   "outputs": [],
   "source": [
    "import numpy as np\n",
    "import scipy as sp\n",
    "from numpy import linalg as LA\n",
    "from copy import deepcopy\n",
    "from numpy import matmul\n",
    "import math\n",
    "import matplotlib.pyplot as plt\n",
    "import time"
   ]
  },
  {
   "cell_type": "code",
   "execution_count": 4,
   "id": "1e13dcb2-1b75-4f1f-971b-366edc97e24f",
   "metadata": {},
   "outputs": [],
   "source": [
    "def check_hermitian(mat):\n",
    "    mat = np.asarray(mat)\n",
    "    assert np.allclose(mat, mat.T.conjugate(), rtol=1e-05, atol=1e-08), \\\n",
    "    \"Sorry! The input matrix should be Hermitian.\""
   ]
  },
  {
   "cell_type": "code",
   "execution_count": 5,
   "id": "970cb054-6159-440c-bf93-f019a46097ff",
   "metadata": {},
   "outputs": [],
   "source": [
    "#Generate random matrix\n",
    "def generate_hermitian(n):\n",
    "    B = np.random.randint(-2, 2, size=(n,n))\n",
    "    while np.linalg.det(B) == 0:\n",
    "        B = np.random.randint(-2, 2, size=(n,n))\n",
    "    Bt = B.transpose()\n",
    "    A  = matmul(B,Bt)\n",
    "    matrix_A = matmul(B,Bt)\n",
    "    # A = matrix_A.tolist()\n",
    "    return(A)"
   ]
  },
  {
   "cell_type": "code",
   "execution_count": 6,
   "id": "c4db464c-2199-47cb-9ec4-9d2d1f870812",
   "metadata": {},
   "outputs": [],
   "source": [
    "# Modified version of QFT available on CudaQ documentation: swaps added.\n",
    "@cudaq.kernel\n",
    "def QFT(qubits: cudaq.qview):\n",
    "    '''Args:\n",
    "    qubits (cudaq.qview): specifies the quantum register to which apply the QFT.'''\n",
    "    qubit_count = len(qubits)\n",
    "    # For this specific instance, following swaps should be added\n",
    "    swap(qubits[1], qubits[qubit_count - 2])\n",
    "    swap(qubits[0], qubits[qubit_count - 1])\n",
    "    \n",
    "    # Apply Hadamard gates and controlled rotation gates.\n",
    "    for i in range(qubit_count):\n",
    "        h(qubits[i])\n",
    "        for j in range(i + 1, qubit_count):\n",
    "            angle = -(2 * np.pi) / (2**(j - i + 1))\n",
    "            cr1(angle, [qubits[j]], qubits[i])\n",
    "\n",
    "# Inverse of QFT can be accessed by applying adjoint operator.\n",
    "@cudaq.kernel\n",
    "def invQFT(qubits: cudaq.qview):\n",
    "    '''Args:\n",
    "    qubits (cudaq.qview): specifies the quantum register to which apply the inverse QFT.'''\n",
    "    cudaq.adjoint(QFT, qubits)"
   ]
  },
  {
   "cell_type": "code",
   "execution_count": 7,
   "id": "6dfce640-7d01-41a9-a043-8d70e549cfae",
   "metadata": {},
   "outputs": [],
   "source": [
    "def PauliDecomposition(matrix,sparse=False,PauliStringInit=\"\",output=\"Lists\"):\n",
    "\t\"\"\"\n",
    "        Source: https://github.com/HANTLUK/PauliDecomposition/blob/master/TensorizedPauliDecomposition.py\n",
    "        \n",
    "\t\tComputes the Pauli decomposition of a square matrix.\n",
    "\n",
    "\t\tIteratively splits tensor factors off and decomposes those smaller\n",
    "\t\tmatrices. This is done using submatrices of the original matrix.\n",
    "\t\tThe Pauli strings are generated in each step.\n",
    "\n",
    "\t\tArgs:\n",
    "\t\t\tmatrix: Matrix to be decomposed\n",
    "\t\t\t\t\t(Preferrably numpy array/scipysparse).\n",
    "\t\t\toutput: How the output should be generated.\n",
    "\t\t\tsparse: Whether matrix is in sparse format.\n",
    "\t\t\tPauliStringInit: For recursive computation.\n",
    "\n",
    "\t\tReturns:\n",
    "\t\t\tdecomposition/outString: String of 1XYZ with their factors.\n",
    "\t\"\"\"\n",
    "\n",
    "\tmatDim = matrix.shape[0]\n",
    "\tqBitDim = math.ceil(np.log(matDim)/np.log(2))\n",
    "\n",
    "\t# Pad, if dimension is not a power of 2\n",
    "\n",
    "\tpadDim = 2**qBitDim - matDim\n",
    "\tif padDim != 0:\n",
    "\t\tif sparse:\n",
    "\t\t\tindxptr = np.pad(matrix.indptr, ((0, padDim), (0, padDim)))\n",
    "\t\t\tmatrix = csr_matrix((matrix.data, matrix.indices, indxptr))\n",
    "\t\telse:\n",
    "\t\t\tmatrix = np.pad(matrix, ((0,padDim), (0,padDim)))\n",
    "\tdecomposition = []\n",
    "\n",
    "\tif output == \"Lists\":\n",
    "\t\tStrings = []\n",
    "\t\tCoeffs = []\n",
    "\n",
    "\n",
    "\t# Output for dimension 1\n",
    "\n",
    "\tif qBitDim == 0:\n",
    "\t\tif matrix[0,0] != 0.0:\n",
    "\t\t\tif output == \"Lists\":\n",
    "\t\t\t\tStrings.append(PauliStringInit)\n",
    "\t\t\t\ttry:\n",
    "\t\t\t\t\tCoeffs.append(matrix[0,0])\n",
    "\t\t\t\texcept:\n",
    "\t\t\t\t\tCoeffs.append(matrix[0,0].numpy())\n",
    "\t\t\telse:\n",
    "\t\t\t\tdecomposition = [f\"{matrix[0,0]}, {PauliStringInit}. \"]\n",
    "\n",
    "\t# Calculates the tensor product coefficients via the sliced submatrices.\n",
    "\t# If one of these components is zero that coefficient is ignored.\n",
    "\n",
    "\tif qBitDim > 0:\n",
    "\t\thalfDim = int(2**(qBitDim-1))\n",
    "\n",
    "\t\tcoeff1 = 0.5*(matrix[0:halfDim, 0:halfDim]\n",
    "\t\t\t\t\t\t+ matrix[halfDim:, halfDim:])\n",
    "\t\tcoeffX = 0.5*(matrix[halfDim:, 0:halfDim]\n",
    "\t\t\t\t\t\t+ matrix[0:halfDim, halfDim:])\n",
    "\t\tcoeffY = -1.j*0.5*(matrix[halfDim:, 0:halfDim]\n",
    "\t\t\t\t\t\t- matrix[0:halfDim, halfDim:])\n",
    "\t\tcoeffZ = 0.5*(matrix[0:halfDim, 0:halfDim]\n",
    "\t\t\t\t\t\t- matrix[halfDim:, halfDim:])\n",
    "\n",
    "\t\tcoefficients = {\"I\": coeff1, \"X\": coeffX, \"Y\": coeffY, \"Z\": coeffZ}\n",
    "\n",
    "\t\tmatrix = None\n",
    "\n",
    "\t\t# Recursion for the Submatrices\n",
    "\n",
    "\t\tfor c in coefficients:\n",
    "\t\t\tmat = coefficients[c]\n",
    "\t\t\tif sparse:\n",
    "\t\t\t\tnonZero = len(mat.nonzero()[0])\n",
    "\t\t\telse:\n",
    "\t\t\t\tnonZero = mat.any()\n",
    "\t\t\t# If zero, no branching\n",
    "\t\t\tif nonZero != 0:\n",
    "\t\t\t\tsubDec = PauliDecomposition(mat,sparse,f\"{PauliStringInit}{c}\",output)\n",
    "\t\t\t\tif output == \"Lists\":\n",
    "\t\t\t\t\tStrings.extend(subDec[0])\n",
    "\t\t\t\t\tCoeffs.extend(subDec[1])\n",
    "\t\t\t\telse:\n",
    "\t\t\t\t\tdecomposition.append(subDec)\n",
    "\n",
    "\tif output == \"Lists\":\n",
    "\t\treturn [Strings,Coeffs]\n",
    "\telse:\n",
    "\t\toutputString = \"\".join(decomposition)\n",
    "\t\treturn outputString"
   ]
  },
  {
   "cell_type": "code",
   "execution_count": 8,
   "id": "a571bdfa-55ba-4130-aca5-4a2e7d3ad387",
   "metadata": {},
   "outputs": [],
   "source": [
    "@cudaq.kernel\n",
    "def A_exp_pauli(qubits: cudaq.qview, coefficients: list[float], words: list[cudaq.pauli_word], Time: float):\n",
    "    for i in range(len(coefficients)):\n",
    "        exp_pauli(coefficients[i]*Time, qubits, words[i])"
   ]
  },
  {
   "cell_type": "code",
   "execution_count": 9,
   "id": "46237afb-f9b5-4dfe-86b7-88a2ac39bfd2",
   "metadata": {},
   "outputs": [],
   "source": [
    "@cudaq.kernel\n",
    "\n",
    "def GQLSS(b: list[float], eigs: list[float], r: int, t0: float, coefficients: list[float], words: list[cudaq.pauli_word]):\n",
    "    \"\"\"\n",
    "    A : The matrix representing the linear system.\n",
    "    b : The vector representing the right-hand side of the linear system.\n",
    "    t0: A time parameter used in the controlled-Hamiltonian operations.\n",
    "    r : A parameter used to determine the rotation angles for the ancilla qubit.\n",
    "    \"\"\"\n",
    "    #==========================================================================\n",
    "    # Preprocessing\n",
    "    #==========================================================================\n",
    "    # check_hermitian(A)\n",
    "\n",
    "    # # Normalize A and b\n",
    "    # norm_b = LA.norm(b)\n",
    "    # A = A / norm_b\n",
    "    # b = b / norm_b\n",
    "\n",
    "    # # # Calculate condition number and eigenvalues of A\n",
    "    # kappa = LA.cond(A)\n",
    "    # eigs = LA.eigvals(A)\n",
    "    #==========================================================================\n",
    "    # Quantum Circuit\n",
    "    #==========================================================================\n",
    "    b_num = 2 # Should be changed based on the system\n",
    "    c_num = 4\n",
    "    # Qubits\n",
    "    qAnc = cudaq.qubit()\n",
    "    qReg = cudaq.qvector(4)\n",
    "    bReg = cudaq.qvector(b_num)\n",
    "    numQubits = len(qReg) + len(bReg) + 1\n",
    "\n",
    "    # Classical bits\n",
    "    cAnc = [0]\n",
    "    bVec = [0 for i in range(b_num)]\n",
    "    \n",
    "    # Apply Hadamard on register C\n",
    "    h(qReg)\n",
    "\n",
    "    # Apply Hamiltonian \n",
    "    for i in range(len(b)):\n",
    "        Time = t0/(2**(len(b)-i))\n",
    "        cudaq.control(A_exp_pauli, qReg[i], bReg, coefficients, words, Time)\n",
    "    \n",
    "    # Apply inverse QFT\n",
    "    QFT(qReg)\n",
    "\n",
    "    # Swap the qubit\n",
    "    swap(qReg[1], qReg[c_num - 1])\n",
    "\n",
    "    # Apply y rotations on Ancilla qubit\n",
    "    for i in range(len(qReg)+1):\n",
    "        if i != 0:\n",
    "            ry.ctrl((2*np.pi)/eigs[i-1], [qReg[i-1]], qAnc)  \n",
    "        \n",
    "    # # ================ Uncompute the circuit ================\n",
    "    mz(qAnc)\n",
    "    \n",
    "    # Swap the qubit\n",
    "    swap(qReg[1], qReg[c_num - 1])\n",
    "\n",
    "    # Apply QFT\n",
    "    invQFT(qReg)\n",
    "    \n",
    "    # Apply Hamiltonian \n",
    "    for i in range(len(b) - 1, -1, -1):\n",
    "        Time = t0/(2**(len(b)-i))\n",
    "        cudaq.control(A_exp_pauli, qReg[i], bReg, coefficients, words, (-1)*Time)\n",
    "\n",
    "    # Apply Hadamard on register C\n",
    "    h(qReg)\n",
    "\n",
    "    # Measurement\n",
    "    mz(bReg)"
   ]
  },
  {
   "cell_type": "code",
   "execution_count": 10,
   "id": "f590e4a9-b5dc-4cc5-82e2-9d780007215a",
   "metadata": {},
   "outputs": [],
   "source": [
    "r_choice = 5"
   ]
  },
  {
   "cell_type": "code",
   "execution_count": 11,
   "id": "8ec80f6c-ebdb-4997-81bf-2662d3ca56bb",
   "metadata": {},
   "outputs": [],
   "source": [
    "#Define the system\n",
    "b = np.array([0, 0, -.5, 0])\n",
    "A = generate_hermitian(4)\n",
    "kappa = LA.cond(A)\n",
    "eigs = LA.eigvals(A)\n",
    "[words,coefficients] = PauliDecomposition(A)"
   ]
  },
  {
   "cell_type": "code",
   "execution_count": 12,
   "id": "114a4598-a38d-41e1-a7c6-a7229d04ccf1",
   "metadata": {},
   "outputs": [
    {
     "data": {
      "text/plain": [
       "array([-2.   , -0.125, -4.5  ,  3.375])"
      ]
     },
     "execution_count": 12,
     "metadata": {},
     "output_type": "execute_result"
    }
   ],
   "source": [
    "csol = LA.solve(A,b)\n",
    "csol"
   ]
  },
  {
   "cell_type": "code",
   "execution_count": 13,
   "id": "147dba8b-6cdf-4dd9-92d0-84a88ebf4594",
   "metadata": {},
   "outputs": [],
   "source": [
    "coefficients = [float(np.real(x)) for x in coefficients]"
   ]
  },
  {
   "cell_type": "code",
   "execution_count": 14,
   "id": "0bcc5433-872c-4fa5-8a59-40fd6a0bab24",
   "metadata": {},
   "outputs": [
    {
     "name": "stdout",
     "output_type": "stream",
     "text": [
      "['II', 'IX', 'IZ', 'XX', 'XZ', 'YY', 'ZI', 'ZX', 'ZZ']\n"
     ]
    }
   ],
   "source": [
    "print(words)"
   ]
  },
  {
   "cell_type": "code",
   "execution_count": 15,
   "id": "67fadb10-1609-4fcf-ad00-33805c798523",
   "metadata": {},
   "outputs": [
    {
     "name": "stdout",
     "output_type": "stream",
     "text": [
      "[5.5, 3.5, -0.5, 0.5, -2.0, -0.5, 0.5, -0.5, 0.5]\n"
     ]
    }
   ],
   "source": [
    "print(coefficients)"
   ]
  },
  {
   "cell_type": "code",
   "execution_count": 16,
   "id": "41768664-3c3e-419c-be2f-9e62695c3805",
   "metadata": {},
   "outputs": [],
   "source": [
    "# Parameters\n",
    "c_num = 4\n",
    "b_num = int(np.log2(len(b)))"
   ]
  },
  {
   "cell_type": "code",
   "execution_count": 17,
   "id": "4b5a28d4-4eeb-4db2-bd25-49c7854b52d1",
   "metadata": {
    "scrolled": true
   },
   "outputs": [
    {
     "name": "stdout",
     "output_type": "stream",
     "text": [
      "============================== Circuit structure ============================== \n",
      "\n"
     ]
    },
    {
     "name": "stderr",
     "output_type": "stream",
     "text": [
      "error: 'quake.extract_ref' op invalid constant index value\n"
     ]
    },
    {
     "ename": "RuntimeError",
     "evalue": "cudaq::builder failed to JIT compile the Quake representation.",
     "output_type": "error",
     "traceback": [
      "\u001b[0;31m---------------------------------------------------------------------------\u001b[0m",
      "\u001b[0;31mRuntimeError\u001b[0m                              Traceback (most recent call last)",
      "Cell \u001b[0;32mIn[17], line 3\u001b[0m\n\u001b[1;32m      1\u001b[0m \u001b[38;5;66;03m# Draw the quantum circuit\u001b[39;00m\n\u001b[1;32m      2\u001b[0m \u001b[38;5;28mprint\u001b[39m(\u001b[38;5;124m\"\u001b[39m\u001b[38;5;124m============================== Circuit structure ============================== \u001b[39m\u001b[38;5;130;01m\\n\u001b[39;00m\u001b[38;5;124m\"\u001b[39m)\n\u001b[0;32m----> 3\u001b[0m \u001b[38;5;28mprint\u001b[39m(cudaq\u001b[38;5;241m.\u001b[39mdraw(GQLSS, b, eigs, r_choice, \u001b[38;5;241m2\u001b[39m\u001b[38;5;241m*\u001b[39mnp\u001b[38;5;241m.\u001b[39mpi, coefficients, words))\n",
      "\u001b[0;31mRuntimeError\u001b[0m: cudaq::builder failed to JIT compile the Quake representation."
     ]
    }
   ],
   "source": [
    "# Draw the quantum circuit\n",
    "print(\"============================== Circuit structure ============================== \\n\")\n",
    "print(cudaq.draw(GQLSS, b, eigs, r_choice, 2*np.pi, coefficients, words))"
   ]
  },
  {
   "cell_type": "code",
   "execution_count": null,
   "id": "683e5ff4-9b61-494c-8c98-85f98e7a370b",
   "metadata": {},
   "outputs": [],
   "source": []
  }
 ],
 "metadata": {
  "kernelspec": {
   "display_name": "Python 3 (ipykernel)",
   "language": "python",
   "name": "python3"
  },
  "language_info": {
   "codemirror_mode": {
    "name": "ipython",
    "version": 3
   },
   "file_extension": ".py",
   "mimetype": "text/x-python",
   "name": "python",
   "nbconvert_exporter": "python",
   "pygments_lexer": "ipython3",
   "version": "3.11.8"
  }
 },
 "nbformat": 4,
 "nbformat_minor": 5
}
