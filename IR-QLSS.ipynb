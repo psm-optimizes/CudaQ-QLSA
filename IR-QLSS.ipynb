{
 "cells": [
  {
   "cell_type": "code",
   "execution_count": null,
   "metadata": {},
   "outputs": [],
   "source": [
    "# Install CudaQ package\n",
    "!pip install cudaq\n",
    "\n",
    "from IPython.display import clear_output\n",
    "clear_output()"
   ]
  },
  {
   "cell_type": "code",
   "execution_count": 1,
   "metadata": {},
   "outputs": [],
   "source": [
    "import cudaq"
   ]
  },
  {
   "cell_type": "code",
   "execution_count": 2,
   "metadata": {},
   "outputs": [],
   "source": [
    "import numpy as np\n",
    "import scipy as sp\n",
    "from numpy import linalg as LA\n",
    "from copy import deepcopy\n",
    "from numpy import matmul\n",
    "import math\n",
    "import matplotlib.pyplot as plt\n",
    "import time"
   ]
  },
  {
   "cell_type": "code",
   "execution_count": 3,
   "metadata": {},
   "outputs": [],
   "source": [
    "# Check the hermitian matrix\n",
    "def check_hermitian(mat):\n",
    "  if np.allclose(mat, mat.T.conjugate(), rtol=1e-05, atol=1e-08):\n",
    "    pass\n",
    "  else:\n",
    "    print(\"Sorry! The input matrix should be Hermitian.\")"
   ]
  },
  {
   "cell_type": "code",
   "execution_count": 4,
   "metadata": {},
   "outputs": [
    {
     "name": "stdout",
     "output_type": "stream",
     "text": [
      "Condition number of A:  8.000000000000002\n",
      "Eigenvalues of A:  [8. 4. 1. 2.]\n"
     ]
    }
   ],
   "source": [
    "# Define linear system\n",
    "A = 0.25*np.array([[15.,9,5,-3],[9,15,3,-5],[5.,3,15,-9],[-3.,-5,-9,15]])\n",
    "b = 0.5*np.array([1,1,1,1]).T\n",
    "\n",
    "# Normalize vector b\n",
    "norm_b = LA.norm(b)\n",
    "A = A / norm_b\n",
    "b = b / norm_b\n",
    "\n",
    "# Exact solution \n",
    "csol = LA.solve(A,b)\n",
    "check_hermitian(A)\n",
    "print(\"Condition number of A: \", LA.cond(A))\n",
    "print(\"Eigenvalues of A: \", LA.eigvals(A))"
   ]
  },
  {
   "cell_type": "code",
   "execution_count": 5,
   "metadata": {},
   "outputs": [],
   "source": [
    "# Modified version of QFT available on CudaQ documentation: swaps added.\n",
    "@cudaq.kernel\n",
    "def QFT(qubits: cudaq.qview):\n",
    "    '''Args:\n",
    "    qubits (cudaq.qview): specifies the quantum register to which apply the QFT.'''\n",
    "    qubit_count = len(qubits)\n",
    "    # For this specific instance, following swaps should be added\n",
    "    swap(qubits[1], qubits[qubit_count - 2])\n",
    "    swap(qubits[0], qubits[qubit_count - 1])\n",
    "    \n",
    "    # Apply Hadamard gates and controlled rotation gates.\n",
    "    for i in range(qubit_count):\n",
    "        h(qubits[i])\n",
    "        for j in range(i + 1, qubit_count):\n",
    "            angle = -(2 * np.pi) / (2**(j - i + 1))\n",
    "            cr1(angle, [qubits[j]], qubits[i])\n",
    "\n",
    "# Inverse of QFT can be accessed by applying adjoint operator.\n",
    "@cudaq.kernel\n",
    "def invQFT(qubits: cudaq.qview):\n",
    "    '''Args:\n",
    "    qubits (cudaq.qview): specifies the quantum register to which apply the inverse QFT.'''\n",
    "    cudaq.adjoint(QFT, qubits)"
   ]
  },
  {
   "cell_type": "code",
   "execution_count": 6,
   "metadata": {},
   "outputs": [],
   "source": [
    "# Parameters\n",
    "c_num = 4\n",
    "b_num = int(np.log2(len(b)))"
   ]
  },
  {
   "cell_type": "code",
   "execution_count": 7,
   "metadata": {
    "scrolled": true
   },
   "outputs": [],
   "source": [
    "# Calculating the unitary matrices needed for Hamiltonian simulation \n",
    "U = {}\n",
    "t = 2*np.pi\n",
    "for i in range(c_num):\n",
    "    Time = t/(2**(c_num - i))\n",
    "    U[i] = sp.linalg.expm(-1j * A * Time)\n",
    "    cudaq.register_operation(f\"U{i}\", U[i])\n",
    "# print(U)"
   ]
  },
  {
   "cell_type": "code",
   "execution_count": 8,
   "metadata": {},
   "outputs": [],
   "source": [
    "# Calculating the unitary matrices needed for inverse Hamiltonian simulation step\n",
    "Uinv = {}\n",
    "for i in range(c_num-1,-1,-1):\n",
    "    Time = t/(2**(c_num-i))\n",
    "    Uinv[i] = sp.linalg.expm(-1j * -A * Time)\n",
    "    cudaq.register_operation(f\"Uinv{i}\", Uinv[i])\n",
    "# print(Uinv)"
   ]
  },
  {
   "cell_type": "code",
   "execution_count": 9,
   "metadata": {},
   "outputs": [
    {
     "name": "stdout",
     "output_type": "stream",
     "text": [
      "Is U0 unitary?     True\n",
      "Is U1 unitary?     True\n",
      "Is U2 unitary?     True\n",
      "Is U3 unitary?     True\n",
      "Is Uinv0 unitary?  True\n",
      "Is Uinv1 unitary?  True\n",
      "Is Uinv2 unitary?  True\n",
      "Is Uinv3 unitary?  True\n"
     ]
    }
   ],
   "source": [
    "# Checking if U and Uinv matrices are unitary\n",
    "for i in range(len(U.keys())):\n",
    "    print(f\"Is U{i} unitary?    \", np.allclose(U[i] @ U[i].conj().T, np.eye(U[i].shape[0])))\n",
    "    \n",
    "for i in range(len(Uinv.keys())):\n",
    "    print(f\"Is Uinv{i} unitary? \", np.allclose(Uinv[i] @ Uinv[i].conj().T, np.eye(Uinv[i].shape[0])))"
   ]
  },
  {
   "cell_type": "code",
   "execution_count": 10,
   "metadata": {},
   "outputs": [],
   "source": [
    "@cudaq.kernel\n",
    "\n",
    "def QuantumLinearSystemSolver(b: list[float], r: int, t: float):\n",
    "    \"\"\"\n",
    "    A: The matrix representing the linear system.\n",
    "    b: The vector representing the right-hand side of the linear system.\n",
    "    t: A time parameter used in the controlled-Hamiltonian operations.\n",
    "    r: A parameter used to determine the rotation angles for the ancilla qubit.\n",
    "    shots: The number of shots (repetitions) for the quantum circuit execution.\n",
    "    \"\"\"\n",
    "    #==========================================================================\n",
    "    # Preprocessing\n",
    "    #==========================================================================\n",
    "    # check_hermitian(A)\n",
    "\n",
    "    # # Normalize A and b\n",
    "    # norm_b = LA.norm(b)\n",
    "    # A = A / norm_b\n",
    "    # b = b / norm_b\n",
    "\n",
    "    # # Calculate condition number and eigenvalues of A\n",
    "    # kappa = LA.cond(A)\n",
    "    # eigs = LA.eigvals(A)\n",
    "\n",
    "    #==========================================================================\n",
    "    # Quantum Circuit\n",
    "    #==========================================================================\n",
    "\n",
    "    # Qubits\n",
    "    qAnc = cudaq.qubit()\n",
    "    cReg = cudaq.qvector(c_num)\n",
    "    bReg = cudaq.qvector(b)       # Giving vector b to qvector initializes the quantum state.\n",
    "\n",
    "    # Classical bits\n",
    "    cAnc = [0]\n",
    "    bVec = [0 for i in range(b_num)]\n",
    "\n",
    "\n",
    "    # Apply Hadamard on register C\n",
    "    h(cReg)\n",
    "\n",
    "    # Apply Hamiltonian \n",
    "    for i in range(c_num):\n",
    "        if i == 0:\n",
    "            U0.ctrl([cReg[i]], bReg[0], bReg[1])\n",
    "        if i == 1:\n",
    "            U1.ctrl([cReg[i]], bReg[0], bReg[1])\n",
    "        if i == 2:\n",
    "            U2.ctrl([cReg[i]], bReg[0], bReg[1])\n",
    "        if i == 3:\n",
    "            U3.ctrl([cReg[i]], bReg[0], bReg[1])\n",
    "            \n",
    "    # Apply inverse QFT\n",
    "    QFT(cReg)\n",
    "\n",
    "    # Swap the qubit\n",
    "    swap(cReg[1], cReg[c_num - 1])\n",
    "\n",
    "    # Apply y rotations on Ancilla qubit\n",
    "    for i in range(c_num):\n",
    "        exponent = c_num - r - i\n",
    "        theta = np.pi/(2**(-exponent))\n",
    "        ry.ctrl(theta, [cReg[i]], qAnc)  \n",
    "        \n",
    "    # # ================ Uncompute the circuit ================\n",
    "    \n",
    "    # Swap the qubit\n",
    "    swap(cReg[1], cReg[c_num - 1])\n",
    "\n",
    "    # Apply QFT\n",
    "    invQFT(cReg)\n",
    "\n",
    "    # Apply Hamiltonian\n",
    "    for i in range(c_num-1,-1,-1):\n",
    "        if i == 0:\n",
    "            Uinv0.ctrl([cReg[i]], bReg[0], bReg[1])\n",
    "        if i == 1:\n",
    "            Uinv1.ctrl([cReg[i]], bReg[0], bReg[1])\n",
    "        if i == 2:\n",
    "            Uinv2.ctrl([cReg[i]], bReg[0], bReg[1])\n",
    "        if i == 3:\n",
    "            Uinv3.ctrl([cReg[i]], bReg[0], bReg[1])\n",
    "\n",
    "    # Apply Hadamard on register C\n",
    "    h(cReg)\n",
    "\n",
    "    # Measurement\n",
    "    mz(qAnc)\n",
    "    mz(bReg)"
   ]
  },
  {
   "cell_type": "code",
   "execution_count": 11,
   "metadata": {},
   "outputs": [
    {
     "name": "stdout",
     "output_type": "stream",
     "text": [
      "Please run the quantum solver.\n"
     ]
    }
   ],
   "source": [
    "# Extract approximate solution of the quantum linear solver\n",
    "def approximate_quantum_sol(sol,b_num):\n",
    "  num = 0\n",
    "  app_sol = np.zeros(2**(b_num))\n",
    "\n",
    "  for key, value in sol.items(): \n",
    "    if key[0] == '1':\n",
    "      num += value \n",
    "      cord = int(key[-1:0:-1],base=2)\n",
    "      app_sol[cord] = value\n",
    "  if num == 0:\n",
    "    return app_sol\n",
    "  \n",
    "  app_sol = 1/num *app_sol\n",
    "  return app_sol\n",
    "\n",
    "print(\"Please run the quantum solver.\")"
   ]
  },
  {
   "cell_type": "code",
   "execution_count": 12,
   "metadata": {},
   "outputs": [],
   "source": [
    "r_choice = 5"
   ]
  },
  {
   "cell_type": "code",
   "execution_count": 13,
   "metadata": {},
   "outputs": [
    {
     "name": "stdout",
     "output_type": "stream",
     "text": [
      "Sample Results: \n",
      "\n",
      "{ 000:11075 001:2222 010:1737 011:1122 100:606 101:3122 110:4164 111:5952 }\n",
      "\n",
      "Most probable result: 000\n",
      "Measured with probability 0.36916666666666664\n",
      "\n",
      "============================== Final results ==============================\n",
      "\n",
      "Exact solution =  [-0.03125  0.21875  0.34375  0.40625]\n",
      "Quantum solver solution =  [0.20922112 0.54843425 0.47488194 0.65569318]\n",
      "Norm of difference =  0.49591888979304133 \n",
      "\n"
     ]
    }
   ],
   "source": [
    "# Do the experiment\n",
    "shots = 30000\n",
    "SampleResults = cudaq.sample(QuantumLinearSystemSolver, b, r_choice, 2*np.pi, shots_count= shots)\n",
    "\n",
    "MostProbableResult = SampleResults.most_probable()\n",
    "Prob = SampleResults.probability(MostProbableResult)\n",
    "print(\"Sample Results: \\n\")\n",
    "print(SampleResults)\n",
    "print(\"Most probable result: \" + MostProbableResult)\n",
    "print(\"Measured with probability \" + str(Prob), end='\\n\\n')  \n",
    "\n",
    "qsol = np.sqrt(approximate_quantum_sol(SampleResults,b_num))\n",
    "\n",
    "print(\"============================== Final results ==============================\\n\")\n",
    "print ('Exact solution = ', csol)\n",
    "print('Quantum solver solution = ', qsol)\n",
    "print('Norm of difference = ', LA.norm(qsol- csol),'\\n')"
   ]
  },
  {
   "cell_type": "code",
   "execution_count": 14,
   "metadata": {},
   "outputs": [
    {
     "data": {
      "image/png": "[encoded data removed]",
      "text/plain": [
       "<Figure size 800x600 with 1 Axes>"
      ]
     },
     "metadata": {},
     "output_type": "display_data"
    },
    {
     "name": "stdout",
     "output_type": "stream",
     "text": [
      "Note: In contrast to Qiskit which uses little-endian, CudaQ uses big-endian!\n"
     ]
    }
   ],
   "source": [
    "# Extract keys and values\n",
    "states = []\n",
    "probabilities = []\n",
    "for key, value in SampleResults.items():\n",
    "    states.append(key)\n",
    "    probabilities.append(value/shots)\n",
    "\n",
    "# Create the bar plot\n",
    "plt.figure(figsize=(8, 6))\n",
    "plt.bar(states, probabilities, color='blue', alpha=0.6)\n",
    "\n",
    "# Add labels and title\n",
    "plt.xlabel('States', fontsize=14)\n",
    "plt.ylabel('Probabilities', fontsize=14)\n",
    "plt.title('Measurement Result Histogram', fontsize=16)\n",
    "\n",
    "# Add bar labels\n",
    "for i, prob in enumerate(probabilities):\n",
    "    plt.text(i, prob, f'{prob:.3f}', ha='center', va='bottom', fontsize=12)\n",
    "\n",
    "# Show the plot\n",
    "plt.grid(axis='y', linestyle='--', alpha=0.7)\n",
    "plt.tight_layout()\n",
    "plt.show()\n",
    "\n",
    "print(\"Note: In contrast to Qiskit which uses little-endian, CudaQ uses big-endian!\")"
   ]
  },
  {
   "cell_type": "code",
   "execution_count": 15,
   "metadata": {},
   "outputs": [
    {
     "name": "stdout",
     "output_type": "stream",
     "text": [
      "============================== Circuit structure ============================== \n",
      "\n",
      "                                                                       »\n",
      "q0 : ──────────────────────────────────────────────────────────────────»\n",
      "     ╭───╮                           ╭───╮╭────────────╮╭─────────────╮»\n",
      "q1 : ┤ h ├──●──────────────────────╳─┤ h ├┤ r1(-1.571) ├┤ r1(-0.7854) ├»\n",
      "     ├───┤  │                      │ ╰───╯╰─────┬──────╯╰──────┬──────╯»\n",
      "q2 : ┤ h ├──┼─────●───────────╳────┼────────────●──────────────┼───────»\n",
      "     ├───┤  │     │           │    │                           │       »\n",
      "q3 : ┤ h ├──┼─────┼─────●─────╳────┼───────────────────────────●───────»\n",
      "     ├───┤  │     │     │          │                                   »\n",
      "q4 : ┤ h ├──┼─────┼─────┼─────●────╳───────────────────────────────────»\n",
      "     ╰───╯╭─┴──╮╭─┴──╮╭─┴──╮╭─┴──╮                                     »\n",
      "q5 : ─────┤>   ├┤>   ├┤>   ├┤>   ├─────────────────────────────────────»\n",
      "          │ U0 ││ U1 ││ U2 ││ U3 │                                     »\n",
      "q6 : ─────┤>   ├┤>   ├┤>   ├┤>   ├─────────────────────────────────────»\n",
      "          ╰────╯╰────╯╰────╯╰────╯                                     »\n",
      "\n",
      "################################################################################\n",
      "\n",
      "               ╭───────────╮                                                »\n",
      "───────────────┤ ry(1.571) ├────────────────────────────────────────────────»\n",
      "╭─────────────╮╰─────┬─────╯                                                »\n",
      "┤ r1(-0.3927) ├──────●──────────────────────────────────────────────────────»\n",
      "╰──────┬──────╯    ╭───╮    ╭────────────╮╭─────────────╮                   »\n",
      "───────┼───────────┤ h ├────┤ r1(-1.571) ├┤ r1(-0.7854) ├───────────────────»\n",
      "       │           ╰───╯    ╰─────┬──────╯╰──────┬──────╯╭───╮╭────────────╮»\n",
      "───────┼──────────────────────────●──────────────┼───────┤ h ├┤ r1(-1.571) ├»\n",
      "       │                                         │       ╰───╯╰─────┬──────╯»\n",
      "───────●─────────────────────────────────────────●──────────────────●───────»\n",
      "                                                                            »\n",
      "────────────────────────────────────────────────────────────────────────────»\n",
      "                                                                            »\n",
      "────────────────────────────────────────────────────────────────────────────»\n",
      "                                                                            »\n",
      "\n",
      "################################################################################\n",
      "\n",
      "        ╭────────────╮╭────────────╮╭────────────╮                          »\n",
      "────────┤ ry(0.7854) ├┤ ry(0.3927) ├┤ ry(0.1963) ├──────────────────────────»\n",
      "        ╰─────┬──────╯╰─────┬──────╯╰─────┬──────╯                          »\n",
      "──────────────┼─────────────┼─────────────┼─────────────────────────────────»\n",
      "              │             │             │                                 »\n",
      "──────╳───────●─────────────┼─────────────┼────────╳────────────────────────»\n",
      "      │                     │             │        │      ╭───────────╮╭───╮»\n",
      "──────┼─────────────────────●─────────────┼────────┼──────┤ r1(1.571) ├┤ h ├»\n",
      "╭───╮ │                                   │        │ ╭───╮╰─────┬─────╯╰───╯»\n",
      "┤ h ├─╳───────────────────────────────────●────────╳─┤ h ├──────●───────────»\n",
      "╰───╯                                                ╰───╯                  »\n",
      "────────────────────────────────────────────────────────────────────────────»\n",
      "                                                                            »\n",
      "────────────────────────────────────────────────────────────────────────────»\n",
      "                                                                            »\n",
      "\n",
      "################################################################################\n",
      "\n",
      "                                                                              »\n",
      "──────────────────────────────────────────────────────────────────────────────»\n",
      "                                ╭────────────╮╭────────────╮╭───────────╮╭───╮»\n",
      "────────────────────────────────┤ r1(0.3927) ├┤ r1(0.7854) ├┤ r1(1.571) ├┤ h ├»\n",
      "╭────────────╮╭───────────╮╭───╮╰─────┬──────╯╰─────┬──────╯╰─────┬─────╯╰───╯»\n",
      "┤ r1(0.7854) ├┤ r1(1.571) ├┤ h ├──────┼─────────────┼─────────────●───────────»\n",
      "╰─────┬──────╯╰─────┬─────╯╰───╯      │             │                         »\n",
      "──────┼─────────────●─────────────────┼─────────────●─────────────────────────»\n",
      "      │                               │                                       »\n",
      "──────●───────────────────────────────●───────────────────────────────────────»\n",
      "                                                                              »\n",
      "──────────────────────────────────────────────────────────────────────────────»\n",
      "                                                                              »\n",
      "──────────────────────────────────────────────────────────────────────────────»\n",
      "                                                                              »\n",
      "\n",
      "################################################################################\n",
      "\n",
      "                                            \n",
      "────────────────────────────────────────────\n",
      "                                       ╭───╮\n",
      "─╳────────────────────────────────●────┤ h ├\n",
      " │                                │    ├───┤\n",
      "─┼─────╳─────────────────●────────┼────┤ h ├\n",
      " │     │                 │        │    ├───┤\n",
      "─┼─────╳────────●────────┼────────┼────┤ h ├\n",
      " │              │        │        │    ├───┤\n",
      "─╳─────●────────┼────────┼────────┼────┤ h ├\n",
      "   ╭───┴───╮╭───┴───╮╭───┴───╮╭───┴───╮╰───╯\n",
      "───┤>      ├┤>      ├┤>      ├┤>      ├─────\n",
      "   │ Uinv3 ││ Uinv2 ││ Uinv1 ││ Uinv0 │     \n",
      "───┤>      ├┤>      ├┤>      ├┤>      ├─────\n",
      "   ╰───────╯╰───────╯╰───────╯╰───────╯     \n",
      "\n"
     ]
    }
   ],
   "source": [
    "# Draw the quantum circuit\n",
    "print(\"============================== Circuit structure ============================== \\n\")\n",
    "print(cudaq.draw(QuantumLinearSystemSolver, b, r_choice, 2*np.pi))"
   ]
  },
  {
   "cell_type": "code",
   "execution_count": 16,
   "metadata": {},
   "outputs": [],
   "source": [
    "import itertools\n",
    "def norm_estimation (A,b,x):\n",
    "    # this function finds scaling factor alpha such that alpha = argmin ||A alpha x - b||_2^2\n",
    "    v= A@x\n",
    "    alpha = (np.dot(v,b))/(np.dot(v,v))\n",
    "    return alpha"
   ]
  },
  {
   "cell_type": "code",
   "execution_count": 17,
   "metadata": {},
   "outputs": [],
   "source": [
    "precision = 1e-6\n",
    "max_iter  = 10000"
   ]
  },
  {
   "cell_type": "code",
   "execution_count": 18,
   "metadata": {},
   "outputs": [],
   "source": [
    "def IR(A,b,precision,max_iter):\n",
    "    ### Scaled Iterative Refinement for solving a linear system\n",
    "    nabla             = 1                             # Scaling factor\n",
    "    rho               = 2                             # Incremental scaling\n",
    "    d                 = len(A)                        # Dimension\n",
    "    iteration         = 0\n",
    "    x                 = np.zeros(d)                   # Solution\n",
    "    r                 = b                             # Residual\n",
    "    con               = np.linalg.cond(A)             # Condition number\n",
    "\n",
    "    b0 = b\n",
    "    \n",
    "    r_record=[]\n",
    "    # print(np.linalg.norm(r)>precision, iteration<=max_iter)\n",
    "    #  and iteration<=max_iter\n",
    "    while (np.linalg.norm(r)>precision and iteration<=max_iter):\n",
    "        b = nabla*r\n",
    "        # print('b:', b)\n",
    "        \n",
    "        SampleResults = cudaq.sample(QuantumLinearSystemSolver, b, r_choice, 2*np.pi, shots_count= shots)\n",
    "        \n",
    "        c = np.sqrt(approximate_quantum_sol(SampleResults,b_num))\n",
    "        \n",
    "        for idx in range(len(csol)):\n",
    "            if np.sign(csol[idx]) != np.sign(c[idx]):\n",
    "                c[idx] = (-1)*c[idx]\n",
    "                \n",
    "        if LA.norm(c) != 1:\n",
    "            # print('Normalizing')\n",
    "            c = c/LA.norm(c)\n",
    "            \n",
    "        alpha = norm_estimation(A,r*nabla,c)                # Calculating best norm estimation\n",
    "        x = x + (alpha/nabla)*c                             # Updating solution\n",
    "        r = b0 - np.dot(A, x)\n",
    "        if LA.norm(r) == 0:\n",
    "            print(\"Residual norm is too small, stopping iteration.\")\n",
    "            res = np.linalg.norm(r)\n",
    "            break\n",
    "        # nabla = min(rho*nabla,1/(LA.norm(r)))  # Updating scaling factor\n",
    "        nabla = 1/(LA.norm(r))\n",
    "        # print(\"Nabla\", nabla)\n",
    "        res = np.linalg.norm(r)\n",
    "        r_record.append(res)\n",
    "        iteration=iteration+1\n",
    "        # print('Norm(r):', LA.norm(r))\n",
    "        # print(\"Precision:\",LA.norm((LA.norm(r) - A*c*alpha)))\n",
    "    return res, x, r_record"
   ]
  },
  {
   "cell_type": "code",
   "execution_count": 19,
   "metadata": {},
   "outputs": [
    {
     "name": "stdout",
     "output_type": "stream",
     "text": [
      "Elapsed time: 00:00:413\n"
     ]
    }
   ],
   "source": [
    "start = time.time()\n",
    "residual, ir_sol, convhist = IR(A,b,precision,max_iter)\n",
    "end = time.time()\n",
    "\n",
    "elapsed_time = end - start\n",
    "\n",
    "minutes = int(elapsed_time // 60)\n",
    "seconds = int(elapsed_time % 60)\n",
    "milliseconds = int((elapsed_time * 1000) % 1000)\n",
    "\n",
    "print(f\"Elapsed time: {minutes:02}:{seconds:02}:{milliseconds:03}\")"
   ]
  },
  {
   "cell_type": "code",
   "execution_count": 20,
   "metadata": {},
   "outputs": [
    {
     "data": {
      "image/png": "[encoded data removed]",
      "text/plain": [
       "<Figure size 800x500 with 1 Axes>"
      ]
     },
     "metadata": {},
     "output_type": "display_data"
    }
   ],
   "source": [
    "iterations = range(len(convhist))  # x-axis is iteration index\n",
    "\n",
    "# Plot\n",
    "plt.figure(figsize=(8, 5))\n",
    "plt.plot(iterations, convhist, linestyle='-', color='b', label='Norm of Residual')\n",
    "plt.xlabel('Iteration')\n",
    "plt.ylabel('Norm of residual')\n",
    "plt.yscale('log')\n",
    "plt.xticks(range(0,len(convhist),2))\n",
    "plt.title('Residual per Iteration')\n",
    "plt.grid(True)\n",
    "plt.legend()\n",
    "plt.show()"
   ]
  },
  {
   "cell_type": "code",
   "execution_count": 21,
   "metadata": {},
   "outputs": [
    {
     "data": {
      "text/plain": [
       "np.float64(4.6930998496842384e-07)"
      ]
     },
     "execution_count": 21,
     "metadata": {},
     "output_type": "execute_result"
    }
   ],
   "source": [
    "LA.norm(csol-ir_sol)"
   ]
  },
  {
   "cell_type": "code",
   "execution_count": 22,
   "metadata": {},
   "outputs": [
    {
     "data": {
      "text/plain": [
       "array([-0.03125,  0.21875,  0.34375,  0.40625])"
      ]
     },
     "execution_count": 22,
     "metadata": {},
     "output_type": "execute_result"
    }
   ],
   "source": [
    "csol"
   ]
  },
  {
   "cell_type": "code",
   "execution_count": 23,
   "metadata": {},
   "outputs": [
    {
     "data": {
      "text/plain": [
       "array([-0.03124973,  0.21874978,  0.34374981,  0.40624974])"
      ]
     },
     "execution_count": 23,
     "metadata": {},
     "output_type": "execute_result"
    }
   ],
   "source": [
    "ir_sol"
   ]
  }
 ],
 "metadata": {
  "kernelspec": {
   "display_name": "Python 3 (ipykernel)",
   "language": "python",
   "name": "python3"
  },
  "language_info": {
   "codemirror_mode": {
    "name": "ipython",
    "version": 3
   },
   "file_extension": ".py",
   "mimetype": "text/x-python",
   "name": "python",
   "nbconvert_exporter": "python",
   "pygments_lexer": "ipython3",
   "version": "3.11.8"
  }
 },
 "nbformat": 4,
 "nbformat_minor": 4
}
